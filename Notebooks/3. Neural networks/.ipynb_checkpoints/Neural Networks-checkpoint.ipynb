{
 "cells": [
  {
   "cell_type": "markdown",
   "id": "f2a6f400-9bd2-42d2-9a29-224fbdd244ba",
   "metadata": {},
   "source": [
    "# Importing libraries"
   ]
  },
  {
   "cell_type": "code",
   "execution_count": 1,
   "id": "c2858635-462d-4925-b879-65fb66341d17",
   "metadata": {},
   "outputs": [],
   "source": [
    "import pandas as pd\n",
    "import numpy as np\n",
    "import random\n",
    "import os\n",
    "\n",
    "import matplotlib.pyplot as plt\n",
    "import seaborn as sns"
   ]
  },
  {
   "cell_type": "code",
   "execution_count": 2,
   "id": "ddd4305b-b8cc-42b1-ac3f-f754f905642e",
   "metadata": {},
   "outputs": [],
   "source": [
    "import sklearn"
   ]
  },
  {
   "cell_type": "code",
   "execution_count": 3,
   "id": "45056b56-f659-4ad6-a3b7-beb31500b1b5",
   "metadata": {},
   "outputs": [],
   "source": [
    "from sklearn.model_selection import train_test_split\n",
    "from sklearn.preprocessing import StandardScaler\n",
    "from sklearn.metrics import confusion_matrix, roc_auc_score, f1_score, precision_score, recall_score, balanced_accuracy_score\n",
    "from sklearn.metrics import classification_report, roc_curve\n",
    "\n",
    "from sklearn.impute import SimpleImputer\n",
    "from sklearn.utils.class_weight import compute_class_weight\n"
   ]
  },
  {
   "cell_type": "code",
   "execution_count": 4,
   "id": "74edc9d0-a767-49a8-87de-978431c3372e",
   "metadata": {
    "editable": true,
    "slideshow": {
     "slide_type": ""
    },
    "tags": []
   },
   "outputs": [],
   "source": [
    "import tensorflow as tf\n",
    "from tensorflow.keras.models import Sequential\n",
    "from tensorflow.keras.layers import Dense, Dropout, BatchNormalization\n",
    "from tensorflow.keras.optimizers import Adam\n",
    "from tensorflow.keras.callbacks import EarlyStopping\n",
    "from tensorflow.keras.utils import plot_model"
   ]
  },
  {
   "cell_type": "code",
   "execution_count": 5,
   "id": "c83b4a0c-3062-45d5-9d83-e17e84ff5c09",
   "metadata": {},
   "outputs": [],
   "source": [
    "import keras_tuner as kt"
   ]
  },
  {
   "cell_type": "code",
   "execution_count": 6,
   "id": "4b8e2a2b-df23-432a-a448-b4b1543c1635",
   "metadata": {},
   "outputs": [],
   "source": [
    "## Dataset balancing\n",
    "from imblearn.over_sampling import SMOTE"
   ]
  },
  {
   "cell_type": "code",
   "execution_count": 10,
   "id": "83b50b12-8b6e-43ae-8d2e-53ae5046b078",
   "metadata": {},
   "outputs": [],
   "source": [
    "## My functions\n",
    "import sys\n",
    "sys.path.append(\"../0. Scripts\")\n",
    "import data_analysing_functions as daf\n",
    "import model_metrics_functions as mmf"
   ]
  },
  {
   "cell_type": "markdown",
   "id": "002e7378-36c1-4292-bc8a-620a709e638c",
   "metadata": {},
   "source": [
    "# Loading Data"
   ]
  },
  {
   "cell_type": "code",
   "execution_count": null,
   "id": "62aaf5f2-2afa-42c2-85d5-881cf405b653",
   "metadata": {},
   "outputs": [],
   "source": [
    "# Full dataset without NaN\n",
    "train_full_df = pd.read_csv('../0. Data/3. Imputed/original_train_without_nan_df.csv')\n",
    "test_full_df = pd.read_csv('../0. Data/3. Imputed/original_test_without_nan_df.csv')\n",
    "\n",
    "# Balanced dataset\n",
    "train_imputed_df = pd.read_csv('../0. Data/4. Transformed/transformed_removing_below_mean_train_df.csv')\n",
    "# Cargo el dataset transformado porque el balanceo no se realiza en test\n",
    "test_imputed_df = pd.read_csv('../0. Data/4. Transformed/transformed_removing_below_mean_test_df.csv')\n",
    "\n",
    "\n",
    "##imputed_test_df = pd.read_csv('../0. Data/3. Imputed/mean_median_imputed_test_df.csv')\n",
    "\n",
    "pd.set_option('display.max_columns', None)"
   ]
  },
  {
   "cell_type": "code",
   "execution_count": null,
   "id": "68c6715d-552f-4626-8699-91b61fa63517",
   "metadata": {},
   "outputs": [],
   "source": [
    "train_full_df.info()"
   ]
  },
  {
   "cell_type": "code",
   "execution_count": null,
   "id": "1dd6d55b-6eef-4d06-88db-155d6c71dd0e",
   "metadata": {},
   "outputs": [],
   "source": [
    "train_imputed_df.info()"
   ]
  },
  {
   "cell_type": "code",
   "execution_count": null,
   "id": "294bce3c-c32f-42d3-848b-59d21d8602b3",
   "metadata": {},
   "outputs": [],
   "source": [
    "test_imputed_df.info()"
   ]
  },
  {
   "cell_type": "code",
   "execution_count": null,
   "id": "c065b348-1996-4110-a9ec-b4a23d0e0415",
   "metadata": {},
   "outputs": [],
   "source": []
  },
  {
   "cell_type": "code",
   "execution_count": null,
   "id": "6c55d1e5-2f41-4895-81bc-8fb2c13bc22e",
   "metadata": {},
   "outputs": [],
   "source": [
    "# Eliminar la variable target aqui\n",
    "train_full_copy_df = train_full_df.copy()\n",
    "train_full_no_target_df = train_full_copy_df.drop(columns=['liver_cancer'])\n",
    "\n",
    "test_full_copy_df = test_full_df.copy()\n",
    "test_full_no_target_df = test_full_copy_df.drop(columns=['liver_cancer'])\n",
    "\n",
    "train_imputed_copy_df = train_imputed_df.copy()\n",
    "train_imputed_no_target_df = train_imputed_copy_df.drop(columns=['liver_cancer'])\n",
    "\n",
    "test_imputed_copy_df = test_imputed_df.copy()\n",
    "test_imputed_no_target_df = test_imputed_copy_df.drop(columns=['liver_cancer'])"
   ]
  },
  {
   "cell_type": "code",
   "execution_count": null,
   "id": "37acf0fd-5b17-4351-889a-7f17aed849c5",
   "metadata": {},
   "outputs": [],
   "source": [
    "# Separar características (X) y variable objetivo (y) for test and training\n",
    "X_full_train = train_full_no_target_df\n",
    "y_full_train = train_full_df.liver_cancer\n",
    "X_full_test = test_full_no_target_df\n",
    "y_full_test = test_full_df.liver_cancer\n",
    "\n",
    "X_imputed_train = train_imputed_no_target_df\n",
    "y_imputed_train = train_imputed_df.liver_cancer\n",
    "X_imputed_test = test_imputed_no_target_df\n",
    "y_imputed_test = test_imputed_df.liver_cancer"
   ]
  },
  {
   "cell_type": "code",
   "execution_count": null,
   "id": "b980607e-ca0b-43ec-9d23-c94afd603fc4",
   "metadata": {},
   "outputs": [],
   "source": [
    "smote = SMOTE(random_state=42)\n",
    "X_full_train_resampled, y_full_train_resampled = smote.fit_resample(X_full_train, y_full_train)\n",
    "X_imputed_train_resampled, y_imputed_train_resampled = smote.fit_resample(X_imputed_train, y_imputed_train)"
   ]
  },
  {
   "cell_type": "code",
   "execution_count": null,
   "id": "c46e6447-112a-4e8d-9ae2-429395e01963",
   "metadata": {},
   "outputs": [],
   "source": [
    "data_dict = {\n",
    "    \"full_df\": {\n",
    "        \"train\": {\n",
    "            \"X\": X_full_train_resampled,\n",
    "            \"y\": y_full_train_resampled\n",
    "        },\n",
    "        \"test\": {\n",
    "            \"X\": X_full_test,\n",
    "            \"y\": y_full_test\n",
    "        }\n",
    "    },\n",
    "    \"imputed_df\": {\n",
    "        \"train\": {\n",
    "            \"X\": X_imputed_train_resampled,\n",
    "            \"y\": y_imputed_train_resampled\n",
    "        },\n",
    "        \"test\": {\n",
    "            \"X\": X_imputed_test,\n",
    "            \"y\": y_imputed_test\n",
    "        }\n",
    "    }\n",
    "}"
   ]
  },
  {
   "cell_type": "markdown",
   "id": "f788d7e2-14a6-4263-a203-02c2ac5d21ac",
   "metadata": {},
   "source": [
    "# Model Creation"
   ]
  },
  {
   "cell_type": "code",
   "execution_count": 15,
   "id": "2bbe421a-faa3-4dae-b270-de8f63926c0b",
   "metadata": {},
   "outputs": [],
   "source": [
    "# Configuración de la semilla global\n",
    "SEED = 42\n",
    "tf.random.set_seed(SEED)\n",
    "np.random.seed(SEED)\n",
    "random.seed(SEED)\n",
    "\n",
    "# Garantizar operaciones determinísticas\n",
    "os.environ[\"TF_DETERMINISTIC_OPS\"] = \"1\"\n",
    "os.environ[\"OMP_NUM_THREADS\"] = \"1\"\n",
    "os.environ[\"TF_NUM_INTRAOP_THREADS\"] = \"1\"\n",
    "os.environ[\"TF_NUM_INTEROP_THREADS\"] = \"1\""
   ]
  },
  {
   "cell_type": "code",
   "execution_count": 17,
   "id": "2b0aa8c8-f363-4812-9712-b481592d9f9e",
   "metadata": {},
   "outputs": [],
   "source": [
    "from tensorflow.keras import backend as K\n",
    "\n",
    "def focal_loss_fixed(y_true, y_pred, gamma=2., alpha=0.25):\n",
    "    y_true = K.cast(y_true, dtype='float32')\n",
    "    y_pred = K.clip(y_pred, K.epsilon(), 1 - K.epsilon())\n",
    "    loss = -y_true * alpha * K.pow(1 - y_pred, gamma) * K.log(y_pred) \\\n",
    "           - (1 - y_true) * (1 - alpha) * K.pow(y_pred, gamma) * K.log(1 - y_pred)\n",
    "    return K.mean(loss)"
   ]
  },
  {
   "cell_type": "code",
   "execution_count": 19,
   "id": "bf572250-4be0-4ef5-9494-57390289fecd",
   "metadata": {},
   "outputs": [],
   "source": [
    "def load_data():\n",
    "    # Cargar datasets\n",
    "    train_full_df = pd.read_csv('../0. Data/3. Imputed/original_train_without_nan_df.csv')\n",
    "    test_full_df = pd.read_csv('../0. Data/3. Imputed/original_test_without_nan_df.csv')\n",
    "    train_imputed_df = pd.read_csv('../0. Data/3. Imputed/mean_median_imputed_train_df.csv')\n",
    "    test_imputed_df = pd.read_csv('../0. Data/3. Imputed/mean_median_imputed_test_df.csv')\n",
    "    \n",
    "    # Separar características y variable objetivo\n",
    "    X_full_train = train_full_df.drop(columns=['liver_cancer'])\n",
    "    y_full_train = train_full_df['liver_cancer']\n",
    "    X_full_test = test_full_df.drop(columns=['liver_cancer'])\n",
    "    y_full_test = test_full_df['liver_cancer']\n",
    "    \n",
    "    X_imputed_train = train_imputed_df.drop(columns=['liver_cancer'])\n",
    "    y_imputed_train = train_imputed_df['liver_cancer']\n",
    "    X_imputed_test = test_imputed_df.drop(columns=['liver_cancer'])\n",
    "    y_imputed_test = test_imputed_df['liver_cancer']\n",
    "    \n",
    "    # Balancear el dataset usando SMOTE\n",
    "    from imblearn.over_sampling import SMOTE\n",
    "    smote = SMOTE(random_state=SEED)\n",
    "    X_full_train_resampled, y_full_train_resampled = smote.fit_resample(X_full_train, y_full_train)\n",
    "    X_imputed_train_resampled, y_imputed_train_resampled = smote.fit_resample(X_imputed_train, y_imputed_train)\n",
    "    \n",
    "    # Crear estructura de datos\n",
    "    data_dict = {\n",
    "        \"full_df\": {\n",
    "            \"train\": {\"X\": X_full_train_resampled, \"y\": y_full_train_resampled},\n",
    "            \"test\": {\"X\": X_full_test, \"y\": y_full_test}\n",
    "        },\n",
    "        \"imputed_df\": {\n",
    "            \"train\": {\"X\": X_imputed_train_resampled, \"y\": y_imputed_train_resampled},\n",
    "            \"test\": {\"X\": X_imputed_test, \"y\": y_imputed_test}\n",
    "        }\n",
    "    }\n",
    "    return data_dict"
   ]
  },
  {
   "cell_type": "markdown",
   "id": "0f49e748-d866-4eb2-9fc0-bf5c56fba75d",
   "metadata": {},
   "source": [
    "## Keras Tuner"
   ]
  },
  {
   "cell_type": "code",
   "execution_count": 22,
   "id": "1f3ccc6d-4dec-4950-b67d-353d3f0b8dbb",
   "metadata": {},
   "outputs": [],
   "source": [
    "# 🔹 1️⃣ Preprocesamiento de datos (normalización)\n",
    "def preprocess_data(data):\n",
    "    scaler = StandardScaler()\n",
    "    X_train_scaled = scaler.fit_transform(data[\"train\"][\"X\"])\n",
    "    X_test_scaled = scaler.transform(data[\"test\"][\"X\"])\n",
    "    return {\n",
    "        \"train\": {\"X\": X_train_scaled, \"y\": data[\"train\"][\"y\"]},\n",
    "        \"test\": {\"X\": X_test_scaled, \"y\": data[\"test\"][\"y\"]}\n",
    "    }"
   ]
  },
  {
   "cell_type": "code",
   "execution_count": 24,
   "id": "dd58b463-b950-4a05-b880-ec86553e9923",
   "metadata": {},
   "outputs": [],
   "source": [
    "\n",
    "# 🔹 2️⃣ Definición del modelo con Keras Tuner\n",
    "def build_model(hp, input_dim):\n",
    "    model = Sequential([\n",
    "        Dense(hp.Int('units_layer1', 32, 128, step=16), activation='relu', input_dim=input_dim),\n",
    "        BatchNormalization(),\n",
    "        Dropout(hp.Float('dropout_layer1', 0.2, 0.5, step=0.1)),\n",
    "        Dense(hp.Int('units_layer2', 16, 64, step=16), activation='relu'),\n",
    "        BatchNormalization(),\n",
    "        Dropout(hp.Float('dropout_layer2', 0.2, 0.5, step=0.1)),\n",
    "        Dense(1, activation='sigmoid')\n",
    "    ])\n",
    "    model.compile(\n",
    "        optimizer=Adam(learning_rate=hp.Float('learning_rate', 1e-4, 1e-2, sampling='log')),\n",
    "        loss=focal_loss_fixed,\n",
    "        metrics=['Recall']\n",
    "    )\n",
    "    return model"
   ]
  },
  {
   "cell_type": "code",
   "execution_count": 26,
   "id": "990103f9-0224-47c9-bde6-5a82441f6301",
   "metadata": {},
   "outputs": [],
   "source": [
    "# 🔹 3️⃣ Optimización de hiperparámetros\n",
    "def tune_hyperparameters(data, dataset_name):\n",
    "    X_train, y_train = data[\"train\"][\"X\"], data[\"train\"][\"y\"]\n",
    "    X_test, y_test = data[\"test\"][\"X\"], data[\"test\"][\"y\"]\n",
    "    input_dim = X_train.shape[1]\n",
    "    tuner = kt.RandomSearch(lambda hp: build_model(hp, input_dim),\n",
    "                            objective=kt.Objective(\"val_recall\", direction=\"max\"),\n",
    "                            max_trials=10, directory='kt_search',\n",
    "                            project_name=f'liver_cancer_tuning_{dataset_name}')\n",
    "    early_stopping = EarlyStopping(monitor='val_recall', patience=5, restore_best_weights=True)\n",
    "    tuner.search(X_train, y_train, validation_data=(X_test, y_test),\n",
    "                 epochs=20, callbacks=[early_stopping], batch_size=32, shuffle=False, verbose=1)\n",
    "    return tuner.get_best_hyperparameters(num_trials=1)[0]"
   ]
  },
  {
   "cell_type": "code",
   "execution_count": 28,
   "id": "322ff073-0a19-4def-8553-b5565a272da4",
   "metadata": {},
   "outputs": [],
   "source": [
    "# 🔹 4️⃣ Entrenamiento del modelo\n",
    "def train_model(best_hps, data, dataset_name):\n",
    "    X_train, y_train = data[\"train\"][\"X\"], data[\"train\"][\"y\"]\n",
    "    input_dim = X_train.shape[1]\n",
    "\n",
    "    # Calcular class_weight dinámicamente\n",
    "    class_weights = compute_class_weight(class_weight='balanced', classes=np.unique(y_train), y=y_train)\n",
    "    class_weight_dict = dict(enumerate(class_weights))\n",
    "    print(f\"📌 Aplicando class_weight en {dataset_name}: {class_weight_dict}\")\n",
    "\n",
    "    model = build_model(best_hps, input_dim)\n",
    "    history = model.fit(X_train, y_train, validation_data=(data[\"test\"][\"X\"], data[\"test\"][\"y\"]),\n",
    "                        epochs=20, batch_size=32, shuffle=False, verbose=1, class_weight=class_weight_dict)\n",
    "    return model, history\n"
   ]
  },
  {
   "cell_type": "code",
   "execution_count": 30,
   "id": "82f17796-5d25-43d0-bec2-0197632c64a7",
   "metadata": {},
   "outputs": [],
   "source": [
    "# 🔹 5️⃣ Evaluación del modelo\n",
    "def evaluate_model(model, data):\n",
    "    X_test, y_test = data[\"test\"][\"X\"], data[\"test\"][\"y\"]\n",
    "    results = model.evaluate(X_test, y_test, verbose=0)\n",
    "    print(f\"\\n=== Resultados del Modelo Final ===\")\n",
    "    print(f'Test Validation Loss: {results[0]}')\n",
    "    print(f'Test Validation Sensitivity: {results[1]}')\n",
    "    return results"
   ]
  },
  {
   "cell_type": "code",
   "execution_count": 42,
   "id": "d69fc988-94f7-4daf-816c-02bd7b9fa00b",
   "metadata": {},
   "outputs": [],
   "source": [
    "from sklearn.metrics import precision_recall_curve\n",
    "\n",
    "\n",
    "def find_best_threshold(y_true, y_pred_proba, min_specificity=0.80):\n",
    "    \"\"\"\n",
    "    Encuentra el umbral que maximiza la sensibilidad sin bajar de un mínimo de especificidad.\n",
    "    \"\"\"\n",
    "    precision, recall, thresholds = precision_recall_curve(y_true, y_pred_proba)\n",
    "    fpr, tpr, roc_thresholds = roc_curve(y_true, y_pred_proba)\n",
    "    \n",
    "    best_threshold = 0.5\n",
    "    best_sensitivity = 0\n",
    "    best_specificity = 0\n",
    "    \n",
    "    for threshold in thresholds:\n",
    "        y_pred = (y_pred_proba >= threshold).astype(int)\n",
    "        cm = confusion_matrix(y_true, y_pred)\n",
    "        tn, fp, fn, tp = cm.ravel()\n",
    "        \n",
    "        sensitivity = tp / (tp + fn) if (tp + fn) > 0 else 0\n",
    "        specificity = tn / (tn + fp) if (tn + fp) > 0 else 0\n",
    "        \n",
    "        if specificity >= min_specificity and sensitivity > best_sensitivity:\n",
    "            best_threshold = threshold\n",
    "            best_sensitivity = sensitivity\n",
    "            best_specificity = specificity\n",
    "\n",
    "    print(f\"📌 Umbral óptimo encontrado: {best_threshold:.3f}\")\n",
    "    print(f\"✅ Sensibilidad: {best_sensitivity:.4f} | 🎯 Specificidad: {best_specificity:.4f}\")\n",
    "    \n",
    "    return best_threshold"
   ]
  },
  {
   "cell_type": "code",
   "execution_count": 44,
   "id": "01f265a3-8021-415e-9ea3-ace55bf61910",
   "metadata": {},
   "outputs": [],
   "source": [
    "def evaluate_model_with_best_threshold(model, data, dataset_name, min_specificity=0.80):\n",
    "    \"\"\"\n",
    "    Evalúa el modelo y ajusta el umbral para optimizar Sensibilidad sin bajar de una Specificidad mínima.\n",
    "    \"\"\"\n",
    "    X_test, y_test = data[\"test\"][\"X\"], data[\"test\"][\"y\"]\n",
    "    y_pred_proba = model.predict(X_test).ravel()\n",
    "\n",
    "    # 📌 Encuentra el mejor umbral con una especificidad mínima aceptable\n",
    "    best_threshold = find_best_threshold(y_test, y_pred_proba, min_specificity)\n",
    "\n",
    "    # Aplicar el umbral óptimo\n",
    "    y_pred = (y_pred_proba >= best_threshold).astype(int)\n",
    "\n",
    "    # 📌 Matriz de Confusión\n",
    "    cm = confusion_matrix(y_test, y_pred)\n",
    "    print(f\"\\n=== Matriz de Confusión - {dataset_name} ===\")\n",
    "    print(cm)\n",
    "\n",
    "    # 📌 Cálculo de métricas\n",
    "    tn, fp, fn, tp = cm.ravel()\n",
    "    sensitivity = tp / (tp + fn) if (tp + fn) > 0 else 0\n",
    "    specificity = tn / (tn + fp) if (tn + fp) > 0 else 0\n",
    "    precision = tp / (tp + fp) if (tp + fp) > 0 else 0\n",
    "    f1 = 2 * (precision * sensitivity) / (precision + sensitivity) if (precision + sensitivity) > 0 else 0\n",
    "    balanced_accuracy = (sensitivity + specificity) / 2\n",
    "\n",
    "    print(f\"Sensitivity (Recall): {sensitivity:.4f}\")\n",
    "    print(f\"Specificity: {specificity:.4f}\")\n",
    "    print(f\"Precision: {precision:.4f}\")\n",
    "    print(f\"F1-Score: {f1:.4f}\")\n",
    "    print(f\"Balanced Accuracy: {balanced_accuracy:.4f}\")\n",
    "\n",
    "    # 📌 Gráfico de la Matriz de Confusión\n",
    "    plt.figure(figsize=(6, 5))\n",
    "    sns.heatmap(cm, annot=True, fmt=\"d\", cmap=\"Blues\",\n",
    "                xticklabels=[\"No Liver Cancer\", \"Liver Cancer\"],\n",
    "                yticklabels=[\"No Liver Cancer\", \"Liver Cancer\"])\n",
    "    plt.title(f\"Matriz de Confusión - {dataset_name}\")\n",
    "    plt.xlabel(\"Predicción\")\n",
    "    plt.ylabel(\"Valor Real\")\n",
    "    plt.show()\n"
   ]
  },
  {
   "cell_type": "code",
   "execution_count": 46,
   "id": "309761f0-b5a3-46f3-88b7-1d0dd48118af",
   "metadata": {},
   "outputs": [
    {
     "name": "stdout",
     "output_type": "stream",
     "text": [
      "\n",
      "📌 Procesando dataset: full_df\n",
      "Reloading Tuner from kt_search/liver_cancer_tuning_full_df/tuner0.json\n",
      "📌 Aplicando class_weight en full_df: {0: 1.0, 1: 1.0}\n",
      "Epoch 1/20\n",
      "7733/7733 [==============================] - 4s 496us/step - loss: 0.0186 - recall: 0.9539 - val_loss: 2.4110 - val_recall: 1.0000\n",
      "Epoch 2/20\n",
      "7733/7733 [==============================] - 4s 490us/step - loss: 0.0146 - recall: 0.9736 - val_loss: 2.2649 - val_recall: 1.0000\n",
      "Epoch 3/20\n",
      "7733/7733 [==============================] - 4s 483us/step - loss: 0.0116 - recall: 0.9788 - val_loss: 2.3157 - val_recall: 1.0000\n",
      "Epoch 4/20\n",
      "7733/7733 [==============================] - 4s 484us/step - loss: 0.0107 - recall: 0.9819 - val_loss: 2.4056 - val_recall: 1.0000\n",
      "Epoch 5/20\n",
      "7733/7733 [==============================] - 4s 484us/step - loss: 0.0099 - recall: 0.9840 - val_loss: 2.4797 - val_recall: 1.0000\n",
      "Epoch 6/20\n",
      "7733/7733 [==============================] - 4s 488us/step - loss: 0.0091 - recall: 0.9858 - val_loss: 2.5578 - val_recall: 1.0000\n",
      "Epoch 7/20\n",
      "7733/7733 [==============================] - 4s 497us/step - loss: 0.0084 - recall: 0.9876 - val_loss: 2.6167 - val_recall: 1.0000\n",
      "Epoch 8/20\n",
      "7733/7733 [==============================] - 4s 494us/step - loss: 0.0078 - recall: 0.9885 - val_loss: 2.6208 - val_recall: 1.0000\n",
      "Epoch 9/20\n",
      "7733/7733 [==============================] - 4s 487us/step - loss: 0.0073 - recall: 0.9892 - val_loss: 2.6415 - val_recall: 1.0000\n",
      "Epoch 10/20\n",
      "7733/7733 [==============================] - 4s 485us/step - loss: 0.0070 - recall: 0.9898 - val_loss: 2.6421 - val_recall: 1.0000\n",
      "Epoch 11/20\n",
      "7733/7733 [==============================] - 4s 494us/step - loss: 0.0067 - recall: 0.9903 - val_loss: 2.7514 - val_recall: 1.0000\n",
      "Epoch 12/20\n",
      "7733/7733 [==============================] - 4s 485us/step - loss: 0.0066 - recall: 0.9907 - val_loss: 2.7487 - val_recall: 1.0000\n",
      "Epoch 13/20\n",
      "7733/7733 [==============================] - 4s 486us/step - loss: 0.0063 - recall: 0.9910 - val_loss: 2.7108 - val_recall: 1.0000\n",
      "Epoch 14/20\n",
      "7733/7733 [==============================] - 4s 485us/step - loss: 0.0063 - recall: 0.9914 - val_loss: 2.7294 - val_recall: 1.0000\n",
      "Epoch 15/20\n",
      "7733/7733 [==============================] - 4s 492us/step - loss: 0.0061 - recall: 0.9914 - val_loss: 2.7425 - val_recall: 1.0000\n",
      "Epoch 16/20\n",
      "7733/7733 [==============================] - 4s 484us/step - loss: 0.0061 - recall: 0.9914 - val_loss: 2.6984 - val_recall: 1.0000\n",
      "Epoch 17/20\n",
      "7733/7733 [==============================] - 4s 485us/step - loss: 0.0061 - recall: 0.9916 - val_loss: 2.6410 - val_recall: 1.0000\n",
      "Epoch 18/20\n",
      "7733/7733 [==============================] - 4s 484us/step - loss: 0.0061 - recall: 0.9912 - val_loss: 2.6156 - val_recall: 1.0000\n",
      "Epoch 19/20\n",
      "7733/7733 [==============================] - 4s 489us/step - loss: 0.0062 - recall: 0.9912 - val_loss: 2.6048 - val_recall: 1.0000\n",
      "Epoch 20/20\n",
      "7733/7733 [==============================] - 4s 483us/step - loss: 0.0063 - recall: 0.9908 - val_loss: 2.5445 - val_recall: 1.0000\n",
      "\n",
      "=== Resultados del Modelo Final ===\n",
      "Test Validation Loss: 2.5445191860198975\n",
      "Test Validation Sensitivity: 1.0\n",
      "969/969 [==============================] - 0s 213us/step\n",
      "📌 Umbral óptimo encontrado: 0.974\n",
      "✅ Sensibilidad: 0.0217 | 🎯 Specificidad: 0.8000\n",
      "\n",
      "=== Matriz de Confusión - full_df ===\n",
      "[[24746  6186]\n",
      " [   45     1]]\n",
      "Sensitivity (Recall): 0.0217\n",
      "Specificity: 0.8000\n",
      "Precision: 0.0002\n",
      "F1-Score: 0.0003\n",
      "Balanced Accuracy: 0.4109\n"
     ]
    },
    {
     "data": {
      "image/png": "[encoded data removed]",
      "text/plain": [
       "<Figure size 600x500 with 2 Axes>"
      ]
     },
     "metadata": {},
     "output_type": "display_data"
    },
    {
     "name": "stdout",
     "output_type": "stream",
     "text": [
      "\n",
      "📌 Procesando dataset: imputed_df\n",
      "Reloading Tuner from kt_search/liver_cancer_tuning_imputed_df/tuner0.json\n",
      "📌 Aplicando class_weight en imputed_df: {0: 1.0, 1: 1.0}\n",
      "Epoch 1/20\n",
      "7458/7458 [==============================] - 4s 470us/step - loss: 0.0573 - recall: 0.6729 - val_loss: 0.7758 - val_recall: 1.0000\n",
      "Epoch 2/20\n",
      "7458/7458 [==============================] - 3s 455us/step - loss: 0.0456 - recall: 0.8086 - val_loss: 1.1039 - val_recall: 1.0000\n",
      "Epoch 3/20\n",
      "7458/7458 [==============================] - 3s 455us/step - loss: 0.0393 - recall: 0.8576 - val_loss: 1.2815 - val_recall: 1.0000\n",
      "Epoch 4/20\n",
      "7458/7458 [==============================] - 3s 456us/step - loss: 0.0372 - recall: 0.8762 - val_loss: 1.3944 - val_recall: 1.0000\n",
      "Epoch 5/20\n",
      "7458/7458 [==============================] - 3s 458us/step - loss: 0.0356 - recall: 0.8877 - val_loss: 1.4718 - val_recall: 1.0000\n",
      "Epoch 6/20\n",
      "7458/7458 [==============================] - 3s 455us/step - loss: 0.0343 - recall: 0.8958 - val_loss: 1.5173 - val_recall: 1.0000\n",
      "Epoch 7/20\n",
      "7458/7458 [==============================] - 3s 460us/step - loss: 0.0331 - recall: 0.9032 - val_loss: 1.5534 - val_recall: 1.0000\n",
      "Epoch 8/20\n",
      "7458/7458 [==============================] - 3s 459us/step - loss: 0.0312 - recall: 0.9100 - val_loss: 1.5796 - val_recall: 1.0000\n",
      "Epoch 9/20\n",
      "7458/7458 [==============================] - 3s 454us/step - loss: 0.0299 - recall: 0.9167 - val_loss: 1.6155 - val_recall: 1.0000\n",
      "Epoch 10/20\n",
      "7458/7458 [==============================] - 3s 457us/step - loss: 0.0284 - recall: 0.9226 - val_loss: 1.6268 - val_recall: 1.0000\n",
      "Epoch 11/20\n",
      "7458/7458 [==============================] - 3s 454us/step - loss: 0.0267 - recall: 0.9279 - val_loss: 1.6402 - val_recall: 1.0000\n",
      "Epoch 12/20\n",
      "7458/7458 [==============================] - 3s 454us/step - loss: 0.0250 - recall: 0.9333 - val_loss: 1.6537 - val_recall: 1.0000\n",
      "Epoch 13/20\n",
      "7458/7458 [==============================] - 3s 453us/step - loss: 0.0238 - recall: 0.9384 - val_loss: 1.6685 - val_recall: 1.0000\n",
      "Epoch 14/20\n",
      "7458/7458 [==============================] - 3s 456us/step - loss: 0.0224 - recall: 0.9418 - val_loss: 1.6852 - val_recall: 1.0000\n",
      "Epoch 15/20\n",
      "7458/7458 [==============================] - 3s 456us/step - loss: 0.0216 - recall: 0.9456 - val_loss: 1.6922 - val_recall: 1.0000\n",
      "Epoch 16/20\n",
      "7458/7458 [==============================] - 3s 455us/step - loss: 0.0203 - recall: 0.9495 - val_loss: 1.7039 - val_recall: 1.0000\n",
      "Epoch 17/20\n",
      "7458/7458 [==============================] - 4s 508us/step - loss: 0.0195 - recall: 0.9517 - val_loss: 1.7126 - val_recall: 1.0000\n",
      "Epoch 18/20\n",
      "7458/7458 [==============================] - 4s 493us/step - loss: 0.0186 - recall: 0.9544 - val_loss: 1.7276 - val_recall: 1.0000\n",
      "Epoch 19/20\n",
      "7458/7458 [==============================] - 4s 503us/step - loss: 0.0179 - recall: 0.9564 - val_loss: 1.7373 - val_recall: 1.0000\n",
      "Epoch 20/20\n",
      "7458/7458 [==============================] - 4s 480us/step - loss: 0.0175 - recall: 0.9578 - val_loss: 1.7430 - val_recall: 1.0000\n",
      "\n",
      "=== Resultados del Modelo Final ===\n",
      "Test Validation Loss: 1.7429924011230469\n",
      "Test Validation Sensitivity: 1.0\n",
      "934/934 [==============================] - 0s 206us/step\n",
      "📌 Umbral óptimo encontrado: 0.500\n",
      "✅ Sensibilidad: 0.0000 | 🎯 Specificidad: 0.0000\n",
      "\n",
      "=== Matriz de Confusión - imputed_df ===\n",
      "[[    0 29835]\n",
      " [    0    39]]\n",
      "Sensitivity (Recall): 1.0000\n",
      "Specificity: 0.0000\n",
      "Precision: 0.0013\n",
      "F1-Score: 0.0026\n",
      "Balanced Accuracy: 0.5000\n"
     ]
    },
    {
     "data": {
      "image/png": "[encoded data removed]",
      "text/plain": [
       "<Figure size 600x500 with 2 Axes>"
      ]
     },
     "metadata": {},
     "output_type": "display_data"
    }
   ],
   "source": [
    "# 🔹 Ejecución para cada dataset\n",
    "data_dict = load_data()\n",
    "# 🔹 Ejecutar modelo con este nuevo ajuste de umbral\n",
    "for dataset_name, dataset in data_dict.items():\n",
    "    print(f\"\\n📌 Procesando dataset: {dataset_name}\")\n",
    "    \n",
    "    processed_data = preprocess_data(dataset)\n",
    "    \n",
    "    best_hps = tune_hyperparameters(processed_data, dataset_name)\n",
    "    model, history = train_model(best_hps, processed_data, dataset_name)\n",
    "    evaluate_model(model, processed_data)\n",
    "    \n",
    "    # 🚀 Aplicar la nueva optimización de umbral\n",
    "    evaluate_model_with_best_threshold(model, processed_data, dataset_name, min_specificity=0.80)"
   ]
  },
  {
   "cell_type": "code",
   "execution_count": null,
   "id": "68041308-55c0-469a-81df-3a08661897eb",
   "metadata": {},
   "outputs": [],
   "source": []
  },
  {
   "cell_type": "code",
   "execution_count": null,
   "id": "af83799c-79eb-49e8-8128-dd0c9766cdbf",
   "metadata": {},
   "outputs": [],
   "source": []
  },
  {
   "cell_type": "markdown",
   "id": "3ea0c098-a674-49c9-bc47-b0ab43cac25d",
   "metadata": {},
   "source": [
    "## Hyperparameter Tunning - Keras Tuner"
   ]
  },
  {
   "cell_type": "code",
   "execution_count": null,
   "id": "e6e7cb2b-496e-43dd-b0a6-e5ae3367d8f2",
   "metadata": {},
   "outputs": [],
   "source": []
  },
  {
   "cell_type": "code",
   "execution_count": null,
   "id": "71cb688d-954e-4507-8f0f-eff7471cf24e",
   "metadata": {},
   "outputs": [],
   "source": []
  },
  {
   "cell_type": "code",
   "execution_count": null,
   "id": "6504654d-c32b-4c8b-a470-f068353653d5",
   "metadata": {},
   "outputs": [],
   "source": []
  },
  {
   "cell_type": "code",
   "execution_count": null,
   "id": "21c57f03-de76-47e2-ba04-80097b3e7111",
   "metadata": {},
   "outputs": [],
   "source": []
  },
  {
   "cell_type": "code",
   "execution_count": null,
   "id": "a55ba323-148f-4e15-a214-a9bb8958fbc4",
   "metadata": {},
   "outputs": [],
   "source": []
  },
  {
   "cell_type": "code",
   "execution_count": null,
   "id": "fece8ee8-e663-46b2-9564-cf74c2debb15",
   "metadata": {},
   "outputs": [],
   "source": []
  },
  {
   "cell_type": "code",
   "execution_count": null,
   "id": "bb7ec6aa-50cd-4863-afbc-42dabb0081fe",
   "metadata": {},
   "outputs": [],
   "source": []
  },
  {
   "cell_type": "code",
   "execution_count": null,
   "id": "4b7fc654-0e68-4e55-8d6f-28f977b4ce5e",
   "metadata": {},
   "outputs": [],
   "source": []
  },
  {
   "cell_type": "code",
   "execution_count": null,
   "id": "13a8682e-33b9-4dd3-96ef-2b213845d322",
   "metadata": {},
   "outputs": [],
   "source": []
  },
  {
   "cell_type": "code",
   "execution_count": null,
   "id": "770c1241-457c-4aaa-9474-5a364424be89",
   "metadata": {},
   "outputs": [],
   "source": []
  },
  {
   "cell_type": "code",
   "execution_count": null,
   "id": "063f0968-d49a-4952-867c-8fbb643b7799",
   "metadata": {},
   "outputs": [],
   "source": []
  },
  {
   "cell_type": "code",
   "execution_count": null,
   "id": "fcc18d4c-d32f-475f-93aa-b70f6d936c18",
   "metadata": {},
   "outputs": [],
   "source": []
  },
  {
   "cell_type": "code",
   "execution_count": null,
   "id": "d005ac0c-b338-4639-8258-38bbeaa46c53",
   "metadata": {},
   "outputs": [],
   "source": []
  },
  {
   "cell_type": "code",
   "execution_count": null,
   "id": "72ff00ff-f8dd-410c-843c-08c5a7f6f8d9",
   "metadata": {},
   "outputs": [],
   "source": [
    "# Entrenamiento final con los mejores hiperparámetros\n",
    "final_model = tuner.hypermodel.build(best_hps)\n",
    "final_model.summary()"
   ]
  },
  {
   "cell_type": "code",
   "execution_count": null,
   "id": "03b6b280-e478-4a40-8aef-9483495c08ce",
   "metadata": {},
   "outputs": [],
   "source": [
    "plot_model(final_model, show_shapes=True)"
   ]
  },
  {
   "cell_type": "markdown",
   "id": "2a0a30e5-d80e-4681-a35f-f119c7b48b15",
   "metadata": {},
   "source": [
    "## Training"
   ]
  },
  {
   "cell_type": "code",
   "execution_count": null,
   "id": "9cbaa031-d2fd-4cba-9efd-3d48f5a8e78b",
   "metadata": {},
   "outputs": [],
   "source": [
    "history = final_model.fit(\n",
    "    X_train_scaled, y_train,\n",
    "    validation_data=(X_test_scaled, y_test),\n",
    "    epochs=50,\n",
    "    batch_size=32,\n",
    "    callbacks=[early_stopping],\n",
    "    shuffle=False,  # Garantiza el mismo orden de los datos\n",
    "    verbose=1\n",
    ")"
   ]
  },
  {
   "cell_type": "code",
   "execution_count": null,
   "id": "69053f25-1996-4f59-99fb-d947ce73813f",
   "metadata": {},
   "outputs": [],
   "source": [
    "# Recuperar la mejor época\n",
    "best_epoch = np.argmin(history.history['val_loss']) + 1  # +1 porque las épocas empiezan en 0\n",
    "print(f\"\\n=== La mejor época fue la número {best_epoch} con una pérdida de validación mínima de {min(history.history['val_loss']):.4f} ===\")\n",
    "\n",
    "# Evaluación del modelo final\n",
    "results = final_model.evaluate(X_test_scaled, y_test, verbose=0)\n",
    "print(f\"\\n=== Resultados del Modelo Final ===\")\n",
    "print('Test Validation Loss: {}'.format(results[0]))\n",
    "print('Test Validation Sensitivity: {}'.format(results[1]))"
   ]
  },
  {
   "cell_type": "markdown",
   "id": "d92d7b98-a3ee-4593-adf2-85fdda315dd9",
   "metadata": {},
   "source": [
    "## Predictions"
   ]
  },
  {
   "cell_type": "code",
   "execution_count": null,
   "id": "46dacff6-5c60-46ee-8202-794876a14562",
   "metadata": {},
   "outputs": [],
   "source": [
    "# Predicciones y Métricas Adicionales\n",
    "y_pred_proba = final_model.predict(X_test_scaled).ravel()\n",
    "y_pred = (y_pred_proba > 0.5).astype(int)\n",
    "\n",
    "print(\"\\n=== Reporte de Clasificación ===\")\n",
    "print(classification_report(y_test, y_pred))"
   ]
  },
  {
   "cell_type": "code",
   "execution_count": null,
   "id": "46578081-f543-476b-95ee-336218d36083",
   "metadata": {},
   "outputs": [],
   "source": [
    "# Matriz de Confusión\n",
    "cm = confusion_matrix(y_test, y_pred)\n",
    "sns.heatmap(cm, annot=True, fmt=\"d\", cmap=\"Blues\",\n",
    "            xticklabels=[\"No Liver Cancer\", \"Liver Cancer\"],\n",
    "            yticklabels=[\"No Liver Cancer\", \"Liver Cancer\"])\n",
    "plt.title(\"Matriz de Confusión\")\n",
    "plt.xlabel(\"Predicción\")\n",
    "plt.ylabel(\"Valor Real\")\n",
    "plt.show()\n",
    "\n",
    "# Cálculo de Métricas Adicionales\n",
    "tn, fp, fn, tp = cm.ravel()\n",
    "sensitivity = tp / (tp + fn) if (tp + fn) > 0 else 0\n",
    "specificity = tn / (tn + fp) if (tn + fp) > 0 else 0\n",
    "precision = tp / (tp + fp) if (tp + fp) > 0 else 0\n",
    "f1 = 2 * (precision * sensitivity) / (precision + sensitivity) if (precision + sensitivity) > 0 else 0\n",
    "balanced_accuracy = (sensitivity + specificity) / 2\n",
    "mcc = (tp * tn - fp * fn) / np.sqrt((tp + fp) * (tp + fn) * (tn + fp) * (tn + fn)) if (tp + fp) * (tp + fn) * (tn + fp) * (tn + fn) > 0 else 0\n",
    "\n",
    "print(\"\\n=== Métricas Adicionales ===\")\n",
    "print(f\"Sensitivity (Recall): {sensitivity:.2f}\")\n",
    "print(f\"Specificity: {specificity:.2f}\")\n",
    "print(f\"Precision: {precision:.2f}\")\n",
    "print(f\"F1-Score: {f1:.2f}\")\n",
    "print(f\"Balanced Accuracy: {balanced_accuracy:.2f}\")\n",
    "print(f\"Matthews Correlation Coefficient (MCC): {mcc:.2f}\")\n",
    "\n",
    "# Calcular AUC-ROC\n",
    "roc_auc = roc_auc_score(y_test, y_pred_proba)\n",
    "print(f\"\\n=== AUC-ROC: {roc_auc:.2f} ===\")"
   ]
  },
  {
   "cell_type": "code",
   "execution_count": null,
   "id": "9e70f55c-1f1e-4b50-a48b-28f0f9f3e0ff",
   "metadata": {},
   "outputs": [],
   "source": [
    "# Visualización de Curvas de Aprendizaje\n",
    "plt.figure(figsize=(10, 6))\n",
    "plt.plot(history.history['recall'], label='Train Sensitivity')\n",
    "plt.plot(history.history['val_recall'], label='Validation Sensitivity')\n",
    "plt.title('Curva de Sensibilidad')\n",
    "plt.xlabel('Épocas')\n",
    "plt.ylabel('Sensibilidad')\n",
    "plt.legend()\n",
    "plt.show()\n",
    "\n",
    "plt.figure(figsize=(10, 6))\n",
    "plt.plot(history.history['loss'], label='Train Loss')\n",
    "plt.plot(history.history['val_loss'], label='Validation Loss')\n",
    "plt.title('Curva de Pérdida')\n",
    "plt.xlabel('Épocas')\n",
    "plt.ylabel('Pérdida')\n",
    "plt.legend()\n",
    "plt.show()"
   ]
  },
  {
   "cell_type": "code",
   "execution_count": null,
   "id": "7a2d0351-b862-4c4b-bb1d-5a37e20182c2",
   "metadata": {},
   "outputs": [],
   "source": [
    "# Visualización de Curvas con la Mejor Época Marcada\n",
    "plt.figure(figsize=(10, 6))\n",
    "plt.plot(history.history['recall'], label='Train Sensitivity')\n",
    "plt.plot(history.history['val_recall'], label='Validation Sensitivity')\n",
    "plt.axvline(best_epoch - 1, color='red', linestyle='--', label=f'Mejor Época ({best_epoch})')  # Línea vertical\n",
    "plt.title('Curva de Sensibilidad')\n",
    "plt.xlabel('Épocas')\n",
    "plt.ylabel('Sensibilidad')\n",
    "plt.legend()\n",
    "plt.show()\n",
    "\n",
    "plt.figure(figsize=(10, 6))\n",
    "plt.plot(history.history['loss'], label='Train Loss')\n",
    "plt.plot(history.history['val_loss'], label='Validation Loss')\n",
    "plt.axvline(best_epoch - 1, color='red', linestyle='--', label=f'Mejor Época ({best_epoch})')  # Línea vertical\n",
    "plt.title('Curva de Pérdida')\n",
    "plt.xlabel('Épocas')\n",
    "plt.ylabel('Pérdida')\n",
    "plt.legend()\n",
    "plt.show()"
   ]
  },
  {
   "cell_type": "code",
   "execution_count": null,
   "id": "bd450c6a-6acb-40a3-b154-506f7cc3a5e8",
   "metadata": {},
   "outputs": [],
   "source": []
  }
 ],
 "metadata": {
  "kernelspec": {
   "display_name": "Python [conda env:tfm] *",
   "language": "python",
   "name": "conda-env-tfm-py"
  },
  "language_info": {
   "codemirror_mode": {
    "name": "ipython",
    "version": 3
   },
   "file_extension": ".py",
   "mimetype": "text/x-python",
   "name": "python",
   "nbconvert_exporter": "python",
   "pygments_lexer": "ipython3",
   "version": "3.10.9"
  }
 },
 "nbformat": 4,
 "nbformat_minor": 5
}
